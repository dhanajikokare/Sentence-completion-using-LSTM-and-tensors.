{
 "cells": [
  {
   "cell_type": "markdown",
   "id": "f82260f1",
   "metadata": {},
   "source": [
    "# import Dataset"
   ]
  },
  {
   "cell_type": "code",
   "execution_count": 1,
   "id": "3d97df1c",
   "metadata": {},
   "outputs": [],
   "source": [
    "A = open(\"C:/Users/Dell/Downloads/sherlock.txt\",encoding=\"UTF-8\")\n",
    "data = A.read()"
   ]
  },
  {
   "cell_type": "code",
   "execution_count": 40,
   "id": "bfbfdff7",
   "metadata": {
    "scrolled": false
   },
   "outputs": [],
   "source": [
    "#data"
   ]
  },
  {
   "cell_type": "markdown",
   "id": "5516cfce",
   "metadata": {},
   "source": [
    "# Tokenize data and  preprocessing"
   ]
  },
  {
   "cell_type": "code",
   "execution_count": 3,
   "id": "9887c023",
   "metadata": {},
   "outputs": [],
   "source": [
    "Q = []\n",
    "import re\n",
    "for i in data.split(\" \"):\n",
    "    w = re.sub(\"[^a-zA-Z]\",\"\",i)\n",
    "    w = w.upper()\n",
    "    if(w!=\"\"):\n",
    "        Q.append(w)"
   ]
  },
  {
   "cell_type": "code",
   "execution_count": 4,
   "id": "6a84fe67",
   "metadata": {},
   "outputs": [],
   "source": [
    "Q = Q[0:1000]"
   ]
  },
  {
   "cell_type": "markdown",
   "id": "7d10be35",
   "metadata": {},
   "source": [
    "# Find Unique words"
   ]
  },
  {
   "cell_type": "code",
   "execution_count": 5,
   "id": "cd1e2657",
   "metadata": {},
   "outputs": [],
   "source": [
    "from numpy import unique\n",
    "unique_words = unique(Q)"
   ]
  },
  {
   "cell_type": "markdown",
   "id": "8cf897e5",
   "metadata": {},
   "source": [
    "# Create X and Y in string format"
   ]
  },
  {
   "cell_type": "code",
   "execution_count": 6,
   "id": "5f61cf60",
   "metadata": {},
   "outputs": [
    {
     "data": {
      "text/plain": [
       "1000"
      ]
     },
     "execution_count": 6,
     "metadata": {},
     "output_type": "execute_result"
    }
   ],
   "source": [
    "len(Q)"
   ]
  },
  {
   "cell_type": "code",
   "execution_count": 7,
   "id": "b982c874",
   "metadata": {},
   "outputs": [],
   "source": [
    "Xstr = []\n",
    "Ystr = []\n",
    "for i in range(4,len(Q),1):\n",
    "    w1 = Q[i-4]\n",
    "    w2 = Q[i-3]\n",
    "    w3 = Q[i-2]\n",
    "    w4 = Q[i-1]\n",
    "    wy = Q[i]\n",
    "    line = w1 + \" \" + w2 + \" \" + w3 + \" \" + w4\n",
    "    Xstr.append(line)\n",
    "    Ystr.append(wy)"
   ]
  },
  {
   "cell_type": "code",
   "execution_count": 8,
   "id": "e2be8faf",
   "metadata": {},
   "outputs": [
    {
     "data": {
      "text/plain": [
       "['PROJECT',\n",
       " 'GUTENBERGS',\n",
       " 'THE',\n",
       " 'ADVENTURES',\n",
       " 'OF',\n",
       " 'SHERLOCK',\n",
       " 'HOLMES',\n",
       " 'BY',\n",
       " 'ARTHUR',\n",
       " 'CONAN',\n",
       " 'DOYLETHIS',\n",
       " 'EBOOK',\n",
       " 'IS',\n",
       " 'FOR',\n",
       " 'THE',\n",
       " 'USE',\n",
       " 'OF',\n",
       " 'ANYONE',\n",
       " 'ANYWHERE',\n",
       " 'AT']"
      ]
     },
     "execution_count": 8,
     "metadata": {},
     "output_type": "execute_result"
    }
   ],
   "source": [
    "Q[0:20]"
   ]
  },
  {
   "cell_type": "code",
   "execution_count": 9,
   "id": "6b1617f8",
   "metadata": {},
   "outputs": [
    {
     "data": {
      "text/html": [
       "<div>\n",
       "<style scoped>\n",
       "    .dataframe tbody tr th:only-of-type {\n",
       "        vertical-align: middle;\n",
       "    }\n",
       "\n",
       "    .dataframe tbody tr th {\n",
       "        vertical-align: top;\n",
       "    }\n",
       "\n",
       "    .dataframe thead th {\n",
       "        text-align: right;\n",
       "    }\n",
       "</style>\n",
       "<table border=\"1\" class=\"dataframe\">\n",
       "  <thead>\n",
       "    <tr style=\"text-align: right;\">\n",
       "      <th></th>\n",
       "      <th>0</th>\n",
       "      <th>1</th>\n",
       "    </tr>\n",
       "  </thead>\n",
       "  <tbody>\n",
       "    <tr>\n",
       "      <th>0</th>\n",
       "      <td>PROJECT GUTENBERGS THE ADVENTURES</td>\n",
       "      <td>OF</td>\n",
       "    </tr>\n",
       "    <tr>\n",
       "      <th>1</th>\n",
       "      <td>GUTENBERGS THE ADVENTURES OF</td>\n",
       "      <td>SHERLOCK</td>\n",
       "    </tr>\n",
       "    <tr>\n",
       "      <th>2</th>\n",
       "      <td>THE ADVENTURES OF SHERLOCK</td>\n",
       "      <td>HOLMES</td>\n",
       "    </tr>\n",
       "    <tr>\n",
       "      <th>3</th>\n",
       "      <td>ADVENTURES OF SHERLOCK HOLMES</td>\n",
       "      <td>BY</td>\n",
       "    </tr>\n",
       "    <tr>\n",
       "      <th>4</th>\n",
       "      <td>OF SHERLOCK HOLMES BY</td>\n",
       "      <td>ARTHUR</td>\n",
       "    </tr>\n",
       "    <tr>\n",
       "      <th>...</th>\n",
       "      <td>...</td>\n",
       "      <td>...</td>\n",
       "    </tr>\n",
       "    <tr>\n",
       "      <th>991</th>\n",
       "      <td>BY SIX ALMOST PARALLEL</td>\n",
       "      <td>CUTS</td>\n",
       "    </tr>\n",
       "    <tr>\n",
       "      <th>992</th>\n",
       "      <td>SIX ALMOST PARALLEL CUTS</td>\n",
       "      <td>OBVIOUSLY</td>\n",
       "    </tr>\n",
       "    <tr>\n",
       "      <th>993</th>\n",
       "      <td>ALMOST PARALLEL CUTS OBVIOUSLY</td>\n",
       "      <td>THEY</td>\n",
       "    </tr>\n",
       "    <tr>\n",
       "      <th>994</th>\n",
       "      <td>PARALLEL CUTS OBVIOUSLY THEY</td>\n",
       "      <td>HAVE</td>\n",
       "    </tr>\n",
       "    <tr>\n",
       "      <th>995</th>\n",
       "      <td>CUTS OBVIOUSLY THEY HAVE</td>\n",
       "      <td>BEEN</td>\n",
       "    </tr>\n",
       "  </tbody>\n",
       "</table>\n",
       "<p>996 rows × 2 columns</p>\n",
       "</div>"
      ],
      "text/plain": [
       "                                     0          1\n",
       "0    PROJECT GUTENBERGS THE ADVENTURES         OF\n",
       "1         GUTENBERGS THE ADVENTURES OF   SHERLOCK\n",
       "2           THE ADVENTURES OF SHERLOCK     HOLMES\n",
       "3        ADVENTURES OF SHERLOCK HOLMES         BY\n",
       "4                OF SHERLOCK HOLMES BY     ARTHUR\n",
       "..                                 ...        ...\n",
       "991             BY SIX ALMOST PARALLEL       CUTS\n",
       "992           SIX ALMOST PARALLEL CUTS  OBVIOUSLY\n",
       "993     ALMOST PARALLEL CUTS OBVIOUSLY       THEY\n",
       "994       PARALLEL CUTS OBVIOUSLY THEY       HAVE\n",
       "995           CUTS OBVIOUSLY THEY HAVE       BEEN\n",
       "\n",
       "[996 rows x 2 columns]"
      ]
     },
     "execution_count": 9,
     "metadata": {},
     "output_type": "execute_result"
    }
   ],
   "source": [
    "from pandas import DataFrame\n",
    "DataFrame([Xstr,Ystr]).T"
   ]
  },
  {
   "cell_type": "markdown",
   "id": "be167b3b",
   "metadata": {},
   "source": [
    "# Declare Arrays for X and Y"
   ]
  },
  {
   "cell_type": "code",
   "execution_count": 10,
   "id": "81c76e51",
   "metadata": {},
   "outputs": [],
   "source": [
    "lines = len(Xstr)\n",
    "n_uniques = len(unique_words)\n",
    "seq = 4"
   ]
  },
  {
   "cell_type": "code",
   "execution_count": 11,
   "id": "1491703c",
   "metadata": {},
   "outputs": [],
   "source": [
    "from numpy import zeros\n",
    "X_arr = zeros((lines,n_uniques,seq),dtype='uint8') \n",
    "Y_arr = zeros((lines,n_uniques)) "
   ]
  },
  {
   "cell_type": "markdown",
   "id": "a93c131b",
   "metadata": {},
   "source": [
    "# Data Preparation for X_arr and Y_arr"
   ]
  },
  {
   "cell_type": "code",
   "execution_count": 12,
   "id": "805b88f2",
   "metadata": {},
   "outputs": [],
   "source": [
    "line_enum = list(enumerate(Xstr))"
   ]
  },
  {
   "cell_type": "code",
   "execution_count": 13,
   "id": "42f87b2d",
   "metadata": {},
   "outputs": [],
   "source": [
    "pos_finder = {}\n",
    "for i,j in list(enumerate(unique_words)):\n",
    "    pos_finder[j] = i"
   ]
  },
  {
   "cell_type": "code",
   "execution_count": 14,
   "id": "a6310213",
   "metadata": {},
   "outputs": [
    {
     "data": {
      "text/plain": [
       "395"
      ]
     },
     "execution_count": 14,
     "metadata": {},
     "output_type": "execute_result"
    }
   ],
   "source": [
    "pos_finder[\"SHERLOCK\"]"
   ]
  },
  {
   "cell_type": "code",
   "execution_count": 15,
   "id": "e584a0cb",
   "metadata": {},
   "outputs": [],
   "source": [
    "for line_no,line in line_enum:\n",
    "    for seq,word in enumerate(line.split(\" \")):\n",
    "        X_arr[line_no,pos_finder[word],seq] = 1"
   ]
  },
  {
   "cell_type": "code",
   "execution_count": 31,
   "id": "d0723b8e",
   "metadata": {},
   "outputs": [],
   "source": [
    "#X_arr[3,11361,2]"
   ]
  },
  {
   "cell_type": "code",
   "execution_count": 17,
   "id": "ac73e6e3",
   "metadata": {},
   "outputs": [
    {
     "data": {
      "text/plain": [
       "array([[0., 0., 0., ..., 0., 0., 0.],\n",
       "       [0., 0., 0., ..., 0., 0., 0.],\n",
       "       [0., 0., 0., ..., 0., 0., 0.],\n",
       "       ...,\n",
       "       [0., 0., 0., ..., 0., 0., 0.],\n",
       "       [0., 0., 0., ..., 0., 0., 0.],\n",
       "       [0., 0., 0., ..., 0., 0., 0.]])"
      ]
     },
     "execution_count": 17,
     "metadata": {},
     "output_type": "execute_result"
    }
   ],
   "source": [
    "Y_arr"
   ]
  },
  {
   "cell_type": "code",
   "execution_count": 18,
   "id": "718c1f46",
   "metadata": {},
   "outputs": [],
   "source": [
    "for i,j in enumerate(Ystr):\n",
    "    pos = pos_finder[j]\n",
    "    Y_arr[i,pos]=1"
   ]
  },
  {
   "cell_type": "code",
   "execution_count": 19,
   "id": "984b6be1",
   "metadata": {},
   "outputs": [
    {
     "data": {
      "text/plain": [
       "array([[0., 0., 0., ..., 0., 0., 0.],\n",
       "       [0., 0., 0., ..., 0., 0., 0.],\n",
       "       [0., 0., 0., ..., 0., 0., 0.],\n",
       "       ...,\n",
       "       [0., 0., 0., ..., 0., 0., 0.],\n",
       "       [0., 0., 0., ..., 0., 0., 0.],\n",
       "       [0., 0., 0., ..., 0., 0., 0.]])"
      ]
     },
     "execution_count": 19,
     "metadata": {},
     "output_type": "execute_result"
    }
   ],
   "source": [
    "Y_arr"
   ]
  },
  {
   "cell_type": "code",
   "execution_count": 20,
   "id": "2a7cf54f",
   "metadata": {},
   "outputs": [
    {
     "data": {
      "text/plain": [
       "395"
      ]
     },
     "execution_count": 20,
     "metadata": {},
     "output_type": "execute_result"
    }
   ],
   "source": [
    "pos_finder[\"SHERLOCK\"]"
   ]
  },
  {
   "cell_type": "code",
   "execution_count": 21,
   "id": "0a9cf4c1",
   "metadata": {},
   "outputs": [],
   "source": [
    "#Y_arr[1,11361]"
   ]
  },
  {
   "cell_type": "code",
   "execution_count": 22,
   "id": "8c4306e0",
   "metadata": {},
   "outputs": [
    {
     "data": {
      "text/plain": [
       "(996, 515, 4)"
      ]
     },
     "execution_count": 22,
     "metadata": {},
     "output_type": "execute_result"
    }
   ],
   "source": [
    "X_arr.shape"
   ]
  },
  {
   "cell_type": "markdown",
   "id": "78a1069c",
   "metadata": {},
   "source": [
    "# Create a NN"
   ]
  },
  {
   "cell_type": "code",
   "execution_count": 23,
   "id": "1f798e85",
   "metadata": {},
   "outputs": [],
   "source": [
    "from keras.models import Sequential\n",
    "from keras.layers import Dense,LSTM\n",
    "from keras.activations import softmax\n",
    "from keras.layers.core import Activation"
   ]
  },
  {
   "cell_type": "code",
   "execution_count": 24,
   "id": "c8e8a0af",
   "metadata": {},
   "outputs": [],
   "source": [
    "nn=Sequential()\n",
    "nn.add(LSTM(200,input_shape=(515,4)))\n",
    "nn.add(Dense(515))\n",
    "nn.add(Activation(\"softmax\"))"
   ]
  },
  {
   "cell_type": "code",
   "execution_count": 32,
   "id": "954f92fe",
   "metadata": {
    "scrolled": true
   },
   "outputs": [
    {
     "name": "stdout",
     "output_type": "stream",
     "text": [
      "Epoch 1/5\n",
      "31/31 [==============================] - 37s 1s/step - loss: 5.7690 - accuracy: 0.0578 - val_loss: 7.2196 - val_accuracy: 0.0000e+00\n",
      "Epoch 2/5\n",
      "31/31 [==============================] - 34s 1s/step - loss: 5.6415 - accuracy: 0.0578 - val_loss: 8.0390 - val_accuracy: 0.0000e+00\n",
      "Epoch 3/5\n",
      "31/31 [==============================] - 34s 1s/step - loss: 5.6110 - accuracy: 0.0578 - val_loss: 8.2602 - val_accuracy: 0.0000e+00\n",
      "Epoch 4/5\n",
      "31/31 [==============================] - 35s 1s/step - loss: 5.6014 - accuracy: 0.0578 - val_loss: 8.4227 - val_accuracy: 0.0000e+00\n",
      "Epoch 5/5\n",
      "31/31 [==============================] - 35s 1s/step - loss: 5.5977 - accuracy: 0.0578 - val_loss: 8.5219 - val_accuracy: 0.0000e+00\n"
     ]
    }
   ],
   "source": [
    "nn.compile(loss=\"categorical_crossentropy\",metrics=[\"accuracy\"],optimizer=\"adam\")\n",
    "model=nn.fit(X_arr,Y_arr,epochs=5,validation_split=0.01)"
   ]
  },
  {
   "cell_type": "code",
   "execution_count": 34,
   "id": "7cc6d47f",
   "metadata": {},
   "outputs": [
    {
     "name": "stdout",
     "output_type": "stream",
     "text": [
      "Enter sentence:(4 words)adventures of sherlock holmes\n"
     ]
    }
   ],
   "source": [
    "q = input(\"Enter sentence:(4 words)\")\n",
    "q = q.upper()"
   ]
  },
  {
   "cell_type": "code",
   "execution_count": 35,
   "id": "58ec936a",
   "metadata": {},
   "outputs": [
    {
     "data": {
      "text/plain": [
       "'ADVENTURES OF SHERLOCK HOLMES'"
      ]
     },
     "execution_count": 35,
     "metadata": {},
     "output_type": "execute_result"
    }
   ],
   "source": [
    "q"
   ]
  },
  {
   "cell_type": "code",
   "execution_count": 36,
   "id": "a8beff04",
   "metadata": {},
   "outputs": [],
   "source": [
    "inp = zeros((1,515,4),dtype=\"bool\")\n",
    "\n",
    "for word_no,word in enumerate(q.split(\" \")):\n",
    "    inp[0,pos_finder[word],word_no]=1"
   ]
  },
  {
   "cell_type": "code",
   "execution_count": 37,
   "id": "89c3eefb",
   "metadata": {},
   "outputs": [],
   "source": [
    "import pandas as pd\n",
    "B = pd.DataFrame(zip(unique_words,list(nn.predict(inp)[0])),columns=[\"Word\",\"Prob\"])\n",
    "x = B.Prob.max()"
   ]
  },
  {
   "cell_type": "code",
   "execution_count": 38,
   "id": "c66e8506",
   "metadata": {},
   "outputs": [
    {
     "data": {
      "text/plain": [
       "'THE'"
      ]
     },
     "execution_count": 38,
     "metadata": {},
     "output_type": "execute_result"
    }
   ],
   "source": [
    "B[B.Prob == x].Word.values[0]"
   ]
  },
  {
   "cell_type": "code",
   "execution_count": null,
   "id": "65f5e568",
   "metadata": {},
   "outputs": [],
   "source": []
  },
  {
   "cell_type": "code",
   "execution_count": null,
   "id": "eb8b7cbe",
   "metadata": {},
   "outputs": [],
   "source": []
  }
 ],
 "metadata": {
  "kernelspec": {
   "display_name": "Python 3 (ipykernel)",
   "language": "python",
   "name": "python3"
  },
  "language_info": {
   "codemirror_mode": {
    "name": "ipython",
    "version": 3
   },
   "file_extension": ".py",
   "mimetype": "text/x-python",
   "name": "python",
   "nbconvert_exporter": "python",
   "pygments_lexer": "ipython3",
   "version": "3.8.12"
  }
 },
 "nbformat": 4,
 "nbformat_minor": 5
}
